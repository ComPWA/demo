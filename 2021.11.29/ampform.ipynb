{
 "cells": [
  {
   "cell_type": "markdown",
   "metadata": {},
   "source": [
    "# AmpForm demo [BESIII Collaboration Winter Meeting 2021](https://indico.ihep.ac.cn/event/15291)"
   ]
  },
  {
   "cell_type": "markdown",
   "metadata": {},
   "source": [
    "This notebook accompanies [these slides](https://docs.google.com/presentation/d/e/2PACX-1vTMb3vsOqQUI_A3LYMs0iBvFwuIzyf49rG-PDXpR2TzwXJ4hkg-NzPB_Mslv7DcZuV1Tzm7duZEtI8q/pub). They were presented during the BESIII Collaboration Meeting on 29 November 2021.\n",
    "\n",
    "Related notebooks for this presentation:\n",
    "- [QRules demo](./qrules.ipynb)\n",
    "- [TensorWaves demo](./tensorwaves.ipynb)\n",
    "\n",
    "For more extensive examples, see **[ampform.rtfd.io](https://ampform.readthedocs.io)**."
   ]
  },
  {
   "cell_type": "markdown",
   "metadata": {
    "tags": []
   },
   "source": [
    "## Install dependencies"
   ]
  },
  {
   "cell_type": "code",
   "execution_count": null,
   "metadata": {},
   "outputs": [],
   "source": [
    "%pip install -q ampform[viz]==0.11.*"
   ]
  },
  {
   "cell_type": "code",
   "execution_count": null,
   "metadata": {
    "jupyter": {
     "source_hidden": true
    },
    "tags": []
   },
   "outputs": [],
   "source": [
    "%load_ext autoreload\n",
    "%autoreload\n",
    "import ampform\n",
    "import graphviz\n",
    "import qrules\n",
    "import symplot\n",
    "import sympy as sp\n",
    "from ampform.dynamics import BlattWeisskopfSquared, CoupledWidth\n",
    "from ampform.dynamics.builder import (\n",
    "    create_analytic_breit_wigner,\n",
    "    create_relativistic_breit_wigner_with_ff,\n",
    ")\n",
    "from ampform.dynamics.kmatrix import NonRelativisticKMatrix, RelativisticKMatrix\n",
    "from IPython.display import Math, display\n",
    "from sympy.physics.quantum.spin import WignerD"
   ]
  },
  {
   "cell_type": "markdown",
   "metadata": {},
   "source": [
    "## $K$-matrix expressions"
   ]
  },
  {
   "cell_type": "code",
   "execution_count": null,
   "metadata": {},
   "outputs": [],
   "source": [
    "n = sp.Symbol(\"n_R\")\n",
    "matrix = RelativisticKMatrix.formulate(\n",
    "    n_channels=1,\n",
    "    n_poles=n,\n",
    ")\n",
    "matrix[0, 0]"
   ]
  },
  {
   "cell_type": "code",
   "execution_count": null,
   "metadata": {},
   "outputs": [],
   "source": [
    "matrix = NonRelativisticKMatrix.formulate(\n",
    "    n_channels=2,\n",
    "    n_poles=1,\n",
    ").doit()\n",
    "matrix[0, 0].simplify()"
   ]
  },
  {
   "cell_type": "markdown",
   "metadata": {},
   "source": [
    "## Example $D^0 \\to K^0 K^- K^+$"
   ]
  },
  {
   "cell_type": "markdown",
   "metadata": {},
   "source": [
    "### Generate transitions"
   ]
  },
  {
   "cell_type": "code",
   "execution_count": null,
   "metadata": {},
   "outputs": [],
   "source": [
    "reaction = qrules.generate_transitions(\n",
    "    initial_state=\"D0\",\n",
    "    final_state=[\"K0\", \"K-\", \"K+\"],\n",
    "    allowed_intermediate_particles=[\"a(0)(980)0\", \"a(0)(1450)0\", \"phi(1020)\"],\n",
    "    formalism=\"helicity\",\n",
    ")"
   ]
  },
  {
   "cell_type": "code",
   "execution_count": null,
   "metadata": {
    "tags": []
   },
   "outputs": [],
   "source": [
    "dot = qrules.io.asdot(reaction, collapse_graphs=True, render_final_state_id=True)\n",
    "graphviz.Source(dot)"
   ]
  },
  {
   "cell_type": "markdown",
   "metadata": {},
   "source": [
    "Note that one of the resonances, $a_0(980)$, lies **below threshold**, which means we should parametrize it with an analytic continuation."
   ]
  },
  {
   "cell_type": "code",
   "execution_count": null,
   "metadata": {},
   "outputs": [],
   "source": [
    "PDG = qrules.load_pdg()\n",
    "PDG[\"a(0)(980)0\"].mass < PDG[\"K-\"].mass + PDG[\"K-\"].mass"
   ]
  },
  {
   "cell_type": "code",
   "execution_count": null,
   "metadata": {},
   "outputs": [],
   "source": [
    "builder = ampform.get_builder(reaction)\n",
    "resonances = reaction.get_intermediate_particles()\n",
    "for p in resonances:\n",
    "    builder.set_dynamics(p.name, create_relativistic_breit_wigner_with_ff)\n",
    "builder.set_dynamics(\"a(0)(980)0\", create_analytic_breit_wigner)\n",
    "model = builder.formulate()"
   ]
  },
  {
   "cell_type": "code",
   "execution_count": null,
   "metadata": {
    "jupyter": {
     "source_hidden": true
    },
    "tags": []
   },
   "outputs": [],
   "source": [
    "amplitude_expressions = {\n",
    "    expr: sp.Symbol(name)\n",
    "    for name, expr in model.components.items()\n",
    "    if name.startswith(\"A\")\n",
    "}\n",
    "top_expr = model.expression.xreplace(amplitude_expressions)\n",
    "top_expr"
   ]
  },
  {
   "cell_type": "markdown",
   "metadata": {},
   "source": [
    "### Examine one of the amplitudes"
   ]
  },
  {
   "cell_type": "code",
   "execution_count": null,
   "metadata": {},
   "outputs": [],
   "source": [
    "some_amplitude = model.components[\n",
    "    R\"A_{D^{0}_{0} \\to K^{0}_{0} \\phi(1020)_{0}; \\phi(1020)_{0} \\to K^{+}_{0} K^{-}_{0}}\"\n",
    "]"
   ]
  },
  {
   "cell_type": "code",
   "execution_count": null,
   "metadata": {
    "jupyter": {
     "source_hidden": true
    },
    "tags": []
   },
   "outputs": [],
   "source": [
    "def round_nested(expression, n_decimals):\n",
    "    for node in sp.preorder_traversal(expression):\n",
    "        if node.free_symbols:\n",
    "            continue\n",
    "        if isinstance(node, (float, sp.Float)):\n",
    "            expression = expression.xreplace({node: node.n(n_decimals)})\n",
    "    return expression\n",
    "\n",
    "\n",
    "A_step1 = some_amplitude\n",
    "A_step2 = symplot.partial_doit(A_step1, (BlattWeisskopfSquared, WignerD))\n",
    "A_step2 = symplot.partial_doit(A_step2, CoupledWidth)\n",
    "substitutions = {\n",
    "    sp.Symbol(\"m_0\", real=True): PDG[\"K0\"].mass,\n",
    "    sp.Symbol(\"m_1\", real=True): PDG[\"K-\"].mass,\n",
    "    sp.Symbol(\"m_2\", real=True): PDG[\"K+\"].mass,\n",
    "    **model.parameter_defaults,\n",
    "    sp.sqrt(2): sp.sqrt(2).n(),\n",
    "}\n",
    "A_step3 = some_amplitude.doit().xreplace(substitutions)\n",
    "A_step3 = round_nested(A_step3, n_decimals=2)\n",
    "A_step3 = sp.posify(A_step3)[0]\n",
    "display(\n",
    "    A_step1,\n",
    "    Math(\"=\" + sp.latex(A_step2)),\n",
    "    Math(\"=\" + sp.latex(A_step3)),\n",
    ")"
   ]
  },
  {
   "cell_type": "markdown",
   "metadata": {},
   "source": [
    "### Visualize expression tree"
   ]
  },
  {
   "cell_type": "code",
   "execution_count": null,
   "metadata": {
    "jupyter": {
     "source_hidden": true
    },
    "tags": []
   },
   "outputs": [],
   "source": [
    "dot = sp.dotprint(A_step3)\n",
    "graphviz.Source(dot)"
   ]
  }
 ],
 "metadata": {
  "colab": {
   "toc_visible": true
  },
  "kernelspec": {
   "display_name": "Python 3 (ipykernel)",
   "language": "python",
   "name": "python3"
  },
  "language_info": {
   "codemirror_mode": {
    "name": "ipython",
    "version": 3
   },
   "file_extension": ".py",
   "mimetype": "text/x-python",
   "name": "python",
   "nbconvert_exporter": "python",
   "pygments_lexer": "ipython3",
   "version": "3.8.12"
  }
 },
 "nbformat": 4,
 "nbformat_minor": 4
}
