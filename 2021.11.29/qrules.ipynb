{
 "cells": [
  {
   "cell_type": "markdown",
   "metadata": {},
   "source": [
    "# QRules demo [BESIII Collaboration Winter Meeting 2021](https://indico.ihep.ac.cn/event/15291)"
   ]
  },
  {
   "cell_type": "markdown",
   "metadata": {},
   "source": [
    "This notebook accompanies [these slides](https://docs.google.com/presentation/d/e/2PACX-1vTMb3vsOqQUI_A3LYMs0iBvFwuIzyf49rG-PDXpR2TzwXJ4hkg-NzPB_Mslv7DcZuV1Tzm7duZEtI8q/pub). They were presented during the BESIII Collaboration Meeting on 29 November 2021.\n",
    "\n",
    "Related notebooks for this presentation:\n",
    "- [AmpForm demo](./ampform.ipynb)\n",
    "- [TensorWaves demo](./tensorwaves.ipynb)\n",
    "\n",
    "For more extensive examples, see **[qrules.rtfd.io](https://qrules.readthedocs.io)**."
   ]
  },
  {
   "cell_type": "code",
   "execution_count": null,
   "metadata": {},
   "outputs": [],
   "source": [
    "!uv pip install -q 'qrules[viz]==0.9.*'"
   ]
  },
  {
   "cell_type": "code",
   "execution_count": null,
   "metadata": {},
   "outputs": [],
   "source": [
    "%load_ext autoreload\n",
    "%autoreload\n",
    "import graphviz\n",
    "import qrules"
   ]
  },
  {
   "cell_type": "markdown",
   "metadata": {},
   "source": [
    "The main façade function in [QRules](https://qrules.readthedocs.io/en/0.9.x) is [`generate_transitions()`](https://qrules.readthedocs.io/en/0.9.x/api/qrules.html#qrules.generate_transitions). It can be used to generate all allowed transitions between some initial and final state, given certain constraints:"
   ]
  },
  {
   "cell_type": "code",
   "execution_count": null,
   "metadata": {},
   "outputs": [],
   "source": [
    "reaction = qrules.generate_transitions(\n",
    "    initial_state=\"J/psi(1S)\",\n",
    "    final_state=[\"K0\", \"Sigma+\", \"p~\"],\n",
    "    allowed_interaction_types=[\"strong\"],\n",
    ")"
   ]
  },
  {
   "cell_type": "markdown",
   "metadata": {},
   "source": [
    "The resulting [`ReactionInfo`](https://qrules.readthedocs.io/en/0.9.x/api/qrules.transition.html#qrules.transition.ReactionInfo) object can be visualized with the [`asdot()`](https://qrules.readthedocs.io/en/0.9.x/api/qrules.io.html#qrules.io.asdot) function:"
   ]
  },
  {
   "cell_type": "code",
   "execution_count": null,
   "metadata": {},
   "outputs": [],
   "source": [
    "dot = qrules.io.asdot(reaction, collapse_graphs=True)\n",
    "graphviz.Source(dot)"
   ]
  },
  {
   "cell_type": "markdown",
   "metadata": {},
   "source": [
    "The visualization above is just a simplified rendering: the [`ReactionInfo`](https://qrules.readthedocs.io/en/0.9.x/api/qrules.transition.html#qrules.transition.ReactionInfo) object contains all information that is needed to formulate an amplitude model, like angular momenta, coupled spin, particle masses, widths and spin projections (helicity). See the [AmpForm demo](./ampform.ipynb)."
   ]
  },
  {
   "cell_type": "code",
   "execution_count": null,
   "metadata": {
    "jupyter": {
     "source_hidden": true
    }
   },
   "outputs": [],
   "source": [
    "selection = reaction.transitions[3::11]\n",
    "selection = selection[:2] + selection[-2:]\n",
    "dot = qrules.io.asdot(selection, render_node=True)\n",
    "graphviz.Source(dot)"
   ]
  }
 ],
 "metadata": {
  "colab": {
   "toc_visible": true
  },
  "kernelspec": {
   "display_name": "Python 3 (ipykernel)",
   "language": "python",
   "name": "python3"
  },
  "language_info": {
   "codemirror_mode": {
    "name": "ipython",
    "version": 3
   },
   "file_extension": ".py",
   "mimetype": "text/x-python",
   "name": "python",
   "nbconvert_exporter": "python",
   "pygments_lexer": "ipython3",
   "version": "3.8.19"
  }
 },
 "nbformat": 4,
 "nbformat_minor": 4
}
