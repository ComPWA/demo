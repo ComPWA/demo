{
 "cells": [
  {
   "cell_type": "markdown",
   "metadata": {},
   "source": [
    "# QRules demo PANDA Seminar December 2021"
   ]
  },
  {
   "cell_type": "markdown",
   "metadata": {},
   "source": [
    "This notebook accompanies [these slides](https://docs.google.com/presentation/d/e/2PACX-1vSymz5AjdhPw4Kz1pKhdFMnFGYuQvVaC8WbV_HTg770x6RDYoP-Anv9tn88DSuzvSiiQ9F4pcDGVExv/pub). They were presented during a PANDA Seminar on 13 December 2021.\n",
    "\n",
    "Related notebooks for this presentation:\n",
    "- [AmpForm demo](./ampform.ipynb)\n",
    "- [TensorWaves demo](./tensorwaves.ipynb)\n",
    "\n",
    "For more extensive examples, see **[qrules.rtfd.io](https://qrules.readthedocs.io)**."
   ]
  },
  {
   "cell_type": "code",
   "execution_count": null,
   "metadata": {},
   "outputs": [],
   "source": [
    "%pip install -q qrules[viz]==0.9.*"
   ]
  },
  {
   "cell_type": "code",
   "execution_count": null,
   "metadata": {
    "tags": []
   },
   "outputs": [],
   "source": [
    "%load_ext autoreload\n",
    "%autoreload\n",
    "import graphviz\n",
    "import qrules"
   ]
  },
  {
   "cell_type": "code",
   "execution_count": null,
   "metadata": {
    "tags": []
   },
   "outputs": [],
   "source": [
    "PDG = qrules.load_pdg()\n",
    "PDG.find(\"a(2)(1320)0\")"
   ]
  },
  {
   "cell_type": "code",
   "execution_count": null,
   "metadata": {
    "tags": []
   },
   "outputs": [],
   "source": [
    "selection = PDG.filter(\n",
    "    lambda p: p.mass > 2.8\n",
    "    and p.spin > 0\n",
    "    and p.charge\n",
    "    and p.charmness\n",
    "    and p.parity == +1\n",
    ")\n",
    "selection.names"
   ]
  },
  {
   "cell_type": "code",
   "execution_count": null,
   "metadata": {
    "tags": []
   },
   "outputs": [],
   "source": [
    "qrules.check_reaction_violations(\n",
    "    initial_state=\"pi0\",\n",
    "    final_state=[\"gamma\", \"gamma\", \"gamma\"],\n",
    ")"
   ]
  },
  {
   "cell_type": "markdown",
   "metadata": {},
   "source": [
    "The main façade function in [QRules](https://qrules.readthedocs.io/en/0.9.x) is [`generate_transitions()`](https://qrules.readthedocs.io/en/0.9.x/api/qrules.html#qrules.generate_transitions). It can be used to generate all allowed transitions between some initial and final state, given certain constraints:"
   ]
  },
  {
   "cell_type": "code",
   "execution_count": null,
   "metadata": {},
   "outputs": [],
   "source": [
    "reaction = qrules.generate_transitions(\n",
    "    initial_state=\"J/psi(1S)\",\n",
    "    final_state=[\"K0\", \"Sigma+\", \"p~\"],\n",
    "    allowed_interaction_types=[\"strong\"],\n",
    ")"
   ]
  },
  {
   "cell_type": "markdown",
   "metadata": {},
   "source": [
    "The resulting [`ReactionInfo`](https://qrules.readthedocs.io/en/0.9.x/api/qrules.transition.html#qrules.transition.ReactionInfo) object can be visualized with the [`asdot()`](https://qrules.readthedocs.io/en/0.9.x/api/qrules.io.html#qrules.io.asdot) function:"
   ]
  },
  {
   "cell_type": "code",
   "execution_count": null,
   "metadata": {
    "tags": []
   },
   "outputs": [],
   "source": [
    "dot = qrules.io.asdot(reaction, collapse_graphs=True)\n",
    "graphviz.Source(dot)"
   ]
  },
  {
   "cell_type": "markdown",
   "metadata": {},
   "source": [
    "The visualization above is just a simplified rendering: the [`ReactionInfo`](https://qrules.readthedocs.io/en/0.9.x/api/qrules.transition.html#qrules.transition.ReactionInfo) object contains all information that is needed to formulate an amplitude model, like angular momenta, coupled spin, particle masses, widths and spin projections (helicity). See the [AmpForm demo](./ampform.ipynb)."
   ]
  },
  {
   "cell_type": "code",
   "execution_count": null,
   "metadata": {
    "jupyter": {
     "source_hidden": true
    },
    "tags": []
   },
   "outputs": [],
   "source": [
    "selection = reaction.transitions[3::11]\n",
    "selection = selection[:2] + selection[-2:]\n",
    "dot = qrules.io.asdot(selection, render_node=True)\n",
    "graphviz.Source(dot)"
   ]
  }
 ],
 "metadata": {
  "colab": {
   "toc_visible": true
  },
  "kernelspec": {
   "display_name": "Python 3 (ipykernel)",
   "language": "python",
   "name": "python3"
  },
  "language_info": {
   "codemirror_mode": {
    "name": "ipython",
    "version": 3
   },
   "file_extension": ".py",
   "mimetype": "text/x-python",
   "name": "python",
   "nbconvert_exporter": "python",
   "pygments_lexer": "ipython3",
   "version": "3.8.12"
  }
 },
 "nbformat": 4,
 "nbformat_minor": 4
}
