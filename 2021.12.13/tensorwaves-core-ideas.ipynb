{
 "cells": [
  {
   "cell_type": "markdown",
   "metadata": {},
   "source": [
    "# TensorWaves demo PANDA Seminar December 2021"
   ]
  },
  {
   "cell_type": "markdown",
   "metadata": {},
   "source": [
    "<!-- cspell:ignore cmap coolwarm cstride iplt ipympl ipyplot meshgrid rstride timeit xlim xticks ylabel ylim zlabel zticks -->\n",
    "This notebook accompanies [these slides](https://docs.google.com/presentation/d/e/2PACX-1vSymz5AjdhPw4Kz1pKhdFMnFGYuQvVaC8WbV_HTg770x6RDYoP-Anv9tn88DSuzvSiiQ9F4pcDGVExv/pub). They were presented during a PANDA Seminar on 13 December 2021.\n",
    "\n",
    "Related notebooks for this presentation:\n",
    "- [QRules demo](./qrules.ipynb)\n",
    "- [AmpForm demo](./ampform.ipynb)\n",
    "\n",
    "For more extensive examples, see **[tensorwaves.rtfd.io](https://tensorwaves.readthedocs.io)**."
   ]
  },
  {
   "cell_type": "markdown",
   "metadata": {
    "tags": []
   },
   "source": [
    "## Install dependencies"
   ]
  },
  {
   "cell_type": "code",
   "execution_count": null,
   "metadata": {
    "tags": []
   },
   "outputs": [],
   "source": [
    "%pip install -q ipympl jax jaxlib git+https://github.com/ComPWA/tensorwaves@main"
   ]
  },
  {
   "cell_type": "code",
   "execution_count": null,
   "metadata": {
    "jupyter": {
     "source_hidden": true
    },
    "tags": []
   },
   "outputs": [],
   "source": [
    "%load_ext autoreload\n",
    "%autoreload\n",
    "%config InlineBackend.figure_formats = ['svg']\n",
    "%matplotlib widget\n",
    "import inspect\n",
    "\n",
    "import ipywidgets\n",
    "import matplotlib.pyplot as plt\n",
    "import numpy as np\n",
    "import sympy as sp\n",
    "from black import FileMode, format_str\n",
    "from matplotlib import cm\n",
    "from sympy import sin, sqrt\n",
    "from tensorwaves.function.sympy import lambdify"
   ]
  },
  {
   "cell_type": "markdown",
   "metadata": {
    "tags": []
   },
   "source": [
    "## Core basics"
   ]
  },
  {
   "cell_type": "code",
   "execution_count": null,
   "metadata": {},
   "outputs": [],
   "source": [
    "x, y, a, b = sp.symbols(\"x y a b\")\n",
    "expression = sqrt(x ** a + sin(y / b) ** 2)\n",
    "expression"
   ]
  },
  {
   "cell_type": "code",
   "execution_count": null,
   "metadata": {},
   "outputs": [],
   "source": [
    "function = lambdify(\n",
    "    expression,\n",
    "    symbols=(x, y, a, b),\n",
    "    backend=\"numpy\",\n",
    "    use_cse=False,\n",
    ")\n",
    "src = inspect.getsource(function)\n",
    "src = format_str(src, mode=FileMode())\n",
    "print(src)"
   ]
  },
  {
   "cell_type": "code",
   "execution_count": null,
   "metadata": {
    "tags": []
   },
   "outputs": [],
   "source": [
    "# Set plot domain\n",
    "x_min, x_max = 0.1, 2\n",
    "y_min, y_max = -50, +50\n",
    "x_values = np.linspace(x_min, x_max, num=20)\n",
    "y_values = np.linspace(y_min, y_max, num=40)\n",
    "X, Y = np.meshgrid(x_values, y_values)\n",
    "\n",
    "# Create interactive plots\n",
    "fig = plt.figure()\n",
    "ax = plt.axes(projection=\"3d\")\n",
    "fig.canvas.toolbar_visible = False\n",
    "fig.canvas.header_visible = False\n",
    "fig.canvas.footer_visible = False\n",
    "ax.set_xlim(x_min, x_max)\n",
    "ax.set_ylim(y_min, y_max)\n",
    "ax.set_xlabel(f\"${sp.latex(x)}$\")\n",
    "ax.set_ylabel(f\"${sp.latex(y)}$\")\n",
    "ax.set_zlabel(f\"${sp.latex(expression)}$\")\n",
    "ax.set_xticks([])\n",
    "ax.set_yticks([])\n",
    "ax.set_zticks([])\n",
    "surface = None\n",
    "\n",
    "\n",
    "@ipywidgets.interact(a=(-2.0, 2.0), b=(10, 50))\n",
    "def plot(a=-0.5, b=20):\n",
    "    global surface\n",
    "    Z = function(X, Y, a, b)\n",
    "    if surface is not None:\n",
    "        surface.remove()\n",
    "    surface = ax.plot_surface(\n",
    "        X, Y, Z, rstride=2, cstride=1, cmap=cm.coolwarm, antialiased=False\n",
    "    )"
   ]
  },
  {
   "cell_type": "markdown",
   "metadata": {},
   "source": [
    "## Fast computations"
   ]
  },
  {
   "cell_type": "code",
   "execution_count": null,
   "metadata": {},
   "outputs": [],
   "source": [
    "from tensorwaves.function.sympy import create_function\n",
    "\n",
    "data = dict(\n",
    "    x=np.random.uniform(x_min, x_max, size=1_000_000),\n",
    "    y=np.random.uniform(y_min, y_max, size=1_000_000),\n",
    "    a=-0.5,\n",
    "    b=20,\n",
    ")\n",
    "numpy_function = create_function(expression, backend=\"numpy\")\n",
    "numba_function = create_function(expression, backend=\"numba\")\n",
    "jax_function = create_function(expression, backend=\"jax\")"
   ]
  },
  {
   "cell_type": "code",
   "execution_count": null,
   "metadata": {},
   "outputs": [],
   "source": [
    "%%timeit\n",
    "numpy_function(data)"
   ]
  },
  {
   "cell_type": "code",
   "execution_count": null,
   "metadata": {},
   "outputs": [],
   "source": [
    "%%timeit\n",
    "numba_function(data)"
   ]
  },
  {
   "cell_type": "code",
   "execution_count": null,
   "metadata": {},
   "outputs": [],
   "source": [
    "%%timeit\n",
    "jax_function(data)"
   ]
  }
 ],
 "metadata": {
  "accelerator": "GPU",
  "colab": {
   "toc_visible": true
  },
  "kernelspec": {
   "display_name": "Python 3 (ipykernel)",
   "language": "python",
   "name": "python3"
  },
  "language_info": {
   "codemirror_mode": {
    "name": "ipython",
    "version": 3
   },
   "file_extension": ".py",
   "mimetype": "text/x-python",
   "name": "python",
   "nbconvert_exporter": "python",
   "pygments_lexer": "ipython3",
   "version": "3.8.12"
  }
 },
 "nbformat": 4,
 "nbformat_minor": 4
}
